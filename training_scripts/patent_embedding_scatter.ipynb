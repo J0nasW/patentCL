{
 "cells": [
  {
   "attachments": {},
   "cell_type": "markdown",
   "metadata": {},
   "source": [
    "# This Python Notebook visualizes the patent embeddings in 2D space using scatter plots."
   ]
  },
  {
   "cell_type": "code",
   "execution_count": 1,
   "metadata": {},
   "outputs": [
    {
     "name": "stderr",
     "output_type": "stream",
     "text": [
      "/mnt/nvme01/.venv/lib/python3.11/site-packages/umap/distances.py:1063: NumbaDeprecationWarning: The 'nopython' keyword argument was not supplied to the 'numba.jit' decorator. The implicit default value for this argument is currently False, but it will be changed to True in Numba 0.59.0. See https://numba.readthedocs.io/en/stable/reference/deprecation.html#deprecation-of-object-mode-fall-back-behaviour-when-using-jit for details.\n",
      "  @numba.jit()\n",
      "/mnt/nvme01/.venv/lib/python3.11/site-packages/umap/distances.py:1071: NumbaDeprecationWarning: The 'nopython' keyword argument was not supplied to the 'numba.jit' decorator. The implicit default value for this argument is currently False, but it will be changed to True in Numba 0.59.0. See https://numba.readthedocs.io/en/stable/reference/deprecation.html#deprecation-of-object-mode-fall-back-behaviour-when-using-jit for details.\n",
      "  @numba.jit()\n",
      "/mnt/nvme01/.venv/lib/python3.11/site-packages/umap/distances.py:1086: NumbaDeprecationWarning: The 'nopython' keyword argument was not supplied to the 'numba.jit' decorator. The implicit default value for this argument is currently False, but it will be changed to True in Numba 0.59.0. See https://numba.readthedocs.io/en/stable/reference/deprecation.html#deprecation-of-object-mode-fall-back-behaviour-when-using-jit for details.\n",
      "  @numba.jit()\n",
      "/mnt/nvme01/.venv/lib/python3.11/site-packages/umap/umap_.py:660: NumbaDeprecationWarning: The 'nopython' keyword argument was not supplied to the 'numba.jit' decorator. The implicit default value for this argument is currently False, but it will be changed to True in Numba 0.59.0. See https://numba.readthedocs.io/en/stable/reference/deprecation.html#deprecation-of-object-mode-fall-back-behaviour-when-using-jit for details.\n",
      "  @numba.jit()\n"
     ]
    }
   ],
   "source": [
    "import pandas as pd\n",
    "# Import random\n",
    "import random\n",
    "\n",
    "from sentence_transformers import SentenceTransformer\n",
    "\n",
    "from umap import UMAP\n",
    "\n",
    "import plotly.express as px\n",
    "import plotly.graph_objects as go\n",
    "from plotly.subplots import make_subplots"
   ]
  },
  {
   "cell_type": "code",
   "execution_count": 12,
   "metadata": {},
   "outputs": [],
   "source": [
    "# Control variables\n",
    "\n",
    "patentSBERTa_model = SentenceTransformer('AI-Growth-Lab/PatentSBERTa')\n",
    "own_model = SentenceTransformer('own_models/patentCL_epochs_10_sample_100K_2023-06-22_17-38/')\n",
    "triplet_csv = \"data/triplet_training.csv\"\n",
    "\n",
    "SAMPLE = \"100K\"\n",
    "EPOCHS = 10\n",
    "PRUNE_DF = True"
   ]
  },
  {
   "cell_type": "code",
   "execution_count": 4,
   "metadata": {},
   "outputs": [],
   "source": [
    "# Load the triplet csv file into a pandas dataframe\n",
    "triplet_df = pd.read_csv(triplet_csv)\n",
    "\n",
    "# Drop all columns except a_id, a_title, a_abstract, cpc_id\n",
    "triplet_df = triplet_df.drop(['p_id', 'p_title', 'p_abstract', 'n_id', 'n_title', 'n_abstract'], axis=1)\n",
    "\n",
    "# Create a new column a_title_abstract by concatenating a_title [SEP] a_abstract\n",
    "triplet_df['a_title_abstract'] = triplet_df['a_title'] + \" [SEP] \" + triplet_df['a_abstract']"
   ]
  },
  {
   "cell_type": "code",
   "execution_count": 5,
   "metadata": {},
   "outputs": [
    {
     "name": "stdout",
     "output_type": "stream",
     "text": [
      "Generate embeddings for a_title_abstract with the patentSBERTa model and with the own model and add them as columns to the dataframe\n"
     ]
    },
    {
     "data": {
      "application/vnd.jupyter.widget-view+json": {
       "model_id": "e06e6ce4357847b190aece648e1e4a8b",
       "version_major": 2,
       "version_minor": 0
      },
      "text/plain": [
       "Batches:   0%|          | 0/2573 [00:00<?, ?it/s]"
      ]
     },
     "metadata": {},
     "output_type": "display_data"
    },
    {
     "data": {
      "application/vnd.jupyter.widget-view+json": {
       "model_id": "54de286f72044e998745df9136ba38df",
       "version_major": 2,
       "version_minor": 0
      },
      "text/plain": [
       "Batches:   0%|          | 0/2573 [00:00<?, ?it/s]"
      ]
     },
     "metadata": {},
     "output_type": "display_data"
    },
    {
     "name": "stdout",
     "output_type": "stream",
     "text": [
      "Perform UMAP on the embeddings\n"
     ]
    }
   ],
   "source": [
    "# Generate embeddings for a_title_abstract with the patentSBERTa model and with the own model and add them as columns to the dataframe\n",
    "print(\"Generate embeddings for a_title_abstract with the patentSBERTa model and with the own model and add them as columns to the dataframe\")\n",
    "triplet_df['patentSBERTa_embedding'] = patentSBERTa_model.encode(triplet_df['a_title_abstract'].tolist(), show_progress_bar=True).tolist()\n",
    "triplet_df['own_model_embedding'] = own_model.encode(triplet_df['a_title_abstract'].tolist(), show_progress_bar=True).tolist()\n",
    "\n",
    "# Perform UMAP on the embeddings\n",
    "print(\"Perform UMAP on the embeddings\")\n",
    "umap = UMAP(n_neighbors=5, min_dist=0.3, metric='cosine')\n",
    "triplet_df['patentSBERTa_umap'] = umap.fit_transform(triplet_df['patentSBERTa_embedding'].tolist()).tolist()\n",
    "triplet_df['own_model_umap'] = umap.fit_transform(triplet_df['own_model_embedding'].tolist()).tolist()\n",
    "\n",
    "# Save the dataframe to a csv file\n",
    "print(\"Save the dataframe to a csv file\")\n",
    "df_safename = f\"triplet_training_{SAMPLE}_E{EPOCHS}_embeddings.csv\"\n",
    "triplet_df.to_csv(df_safename, index=False)"
   ]
  },
  {
   "cell_type": "code",
   "execution_count": null,
   "metadata": {},
   "outputs": [],
   "source": [
    "if PRUNE_DF:\n",
    "    # Get a subset of the dataframe with only 10000 rows\n",
    "    print(\"[PRUNE] Get a subset of the dataframe with only 10000 rows\")\n",
    "    triplet_df = triplet_df.sample(n=20000, random_state=1)\n",
    "\n",
    "# Create a color_dict by assigning a color to each individual cpc_id by random\n",
    "print(\"Create a color_dict by assigning a color to each individual cpc_id by random\")\n",
    "color_dict = {}\n",
    "for cpc_id in triplet_df['cpc_id'].unique():\n",
    "    color_dict[cpc_id] = \"rgb(\" + str(random.randint(0, 255)) + \",\" + str(random.randint(0, 255)) + \",\" + str(\n",
    "        random.randint(0, 255)) + \")\"\n",
    "\n",
    "# Count the number of occurrences of each cpc_id in the triplet_df\n",
    "cpc_counts = triplet_df['cpc_id'].value_counts()\n",
    "\n",
    "# Sort the cpc_counts in descending order and get the resulting index\n",
    "sorted_cpc_ids = cpc_counts.index.tolist()\n",
    "\n",
    "# Create a plotly figure with two columns for two scatter plots\n",
    "fig = make_subplots(rows=1, cols=2, subplot_titles=(\"patentSBERTa\", \"own model\"))\n",
    "\n",
    "print(\"Create a plotly figure with two columns for two scatter plots\")\n",
    "# Add the patentSBERTa scatter plot by plotting the x and y coordinates of the umap embeddings. Color the points by cpc_id\n",
    "for cpc_id in sorted_cpc_ids:\n",
    "    fig.add_trace(go.Scatter(\n",
    "        x=triplet_df.loc[triplet_df['cpc_id'] == cpc_id, 'patentSBERTa_umap'].apply(lambda x: x[0]),\n",
    "        y=triplet_df.loc[triplet_df['cpc_id'] == cpc_id, 'patentSBERTa_umap'].apply(lambda x: x[1]),\n",
    "        # Add the cpc_id as well as the a_title to the hover text\n",
    "        text=\"[\" + triplet_df.loc[triplet_df['cpc_id'] == cpc_id, 'cpc_id'] + \"] \" + triplet_df.loc[triplet_df['cpc_id'] == cpc_id, 'a_title'],\n",
    "        hoverinfo='text',\n",
    "        mode='markers',\n",
    "        marker=dict(\n",
    "            size=3,\n",
    "            color=color_dict[cpc_id],\n",
    "            opacity=0.9,\n",
    "        ),\n",
    "        name=cpc_id,\n",
    "        legendgroup=cpc_id\n",
    "    ), row=1, col=1)\n",
    "\n",
    "# Add the own model scatter plot by plotting the x and y coordinates of the umap embeddings. Color the points by cpc_id. Add it in the second column of the figure.\n",
    "for cpc_id in sorted_cpc_ids:\n",
    "    fig.add_trace(go.Scatter(\n",
    "        x=triplet_df.loc[triplet_df['cpc_id'] == cpc_id, 'own_model_umap'].apply(lambda x: x[0]),\n",
    "        y=triplet_df.loc[triplet_df['cpc_id'] == cpc_id, 'own_model_umap'].apply(lambda x: x[1]),\n",
    "        text=\"[\" + triplet_df.loc[triplet_df['cpc_id'] == cpc_id, 'cpc_id'] + \"] \" + triplet_df.loc[triplet_df['cpc_id'] == cpc_id, 'a_title'],\n",
    "        hoverinfo='text',\n",
    "        mode='markers',\n",
    "        marker=dict(\n",
    "            size=3,\n",
    "            color=color_dict[cpc_id],\n",
    "            opacity=0.9,\n",
    "        ),\n",
    "        name=cpc_id,\n",
    "        legendgroup=cpc_id\n",
    "    ), row=1, col=2)\n",
    "\n",
    "# Calculate x and y ranges. \n",
    "# First calculate the min and max values of the x and y coordinates of the umap embeddings of both scatter plots.\n",
    "# I want the same range for both scatter plots. Add a 10% margin.\n",
    "x_min_patentSBERTa = triplet_df['patentSBERTa_umap'].apply(lambda x: x[0]).min()\n",
    "x_max_patentSBERTa = triplet_df['patentSBERTa_umap'].apply(lambda x: x[0]).max()\n",
    "x_min_own_model = triplet_df['own_model_umap'].apply(lambda x: x[0]).min()\n",
    "x_max_own_model = triplet_df['own_model_umap'].apply(lambda x: x[0]).max()\n",
    "x_range = [min(x_min_patentSBERTa, x_min_own_model) * 1.1, max(x_max_patentSBERTa, x_max_own_model) * 1.1]\n",
    "y_min_patentSBERTa = triplet_df['patentSBERTa_umap'].apply(lambda x: x[1]).min()\n",
    "y_max_patentSBERTa = triplet_df['patentSBERTa_umap'].apply(lambda x: x[1]).max()\n",
    "y_min_own_model = triplet_df['own_model_umap'].apply(lambda x: x[1]).min()\n",
    "y_max_own_model = triplet_df['own_model_umap'].apply(lambda x: x[1]).max()\n",
    "y_range = [min(y_min_patentSBERTa, y_min_own_model) * 1.1, max(y_max_patentSBERTa, y_max_own_model) * 1.1]\n",
    "\n",
    "\n",
    "# Set the xaxis and yaxis ranges of both scatter plots to be the same\n",
    "fig.update_layout(\n",
    "    title='UMAP embeddings of patentSBERTa and own model',\n",
    "    xaxis=dict(\n",
    "        title='x',\n",
    "        gridcolor='white',\n",
    "        gridwidth=2,\n",
    "        range=[x_range, y_range]\n",
    "    ),\n",
    "    yaxis=dict(\n",
    "        title='y',\n",
    "        gridcolor='white',\n",
    "        gridwidth=2,\n",
    "        range=[x_range, y_range]\n",
    "    ),\n",
    "    xaxis2=dict(\n",
    "        title='x',\n",
    "        gridcolor='white',\n",
    "        gridwidth=2,\n",
    "        range=[x_range, y_range]\n",
    "    ),\n",
    "    yaxis2=dict(\n",
    "        title='y',\n",
    "        gridcolor='white',\n",
    "        gridwidth=2,\n",
    "        range=[x_range, y_range]\n",
    "    ),\n",
    "    paper_bgcolor='rgb(243, 243, 243)',\n",
    "    plot_bgcolor='rgb(243, 243, 243)',\n",
    "    legend=dict(\n",
    "        orientation='v',\n",
    "        yanchor='top',\n",
    "        y=1.0,\n",
    "        xanchor='right',\n",
    "        x=1.0,\n",
    "        # Set the legend order based on the sorted_cpc_ids list\n",
    "        traceorder='normal',\n",
    "        tracegroupgap=20\n",
    "    )\n",
    ")\n",
    "\n",
    "# Define a callback function to update the axis ranges when a legend item is clicked\n",
    "def update_legend(trace, points, state):\n",
    "    # Get the current x and y axis ranges\n",
    "    x_range = fig['layout']['xaxis']['range']\n",
    "    y_range = fig['layout']['yaxis']['range']\n",
    "    \n",
    "    # If only one legend item is selected, update the axis ranges based on the selected data points\n",
    "    if len(points.point_inds) == 1:\n",
    "        # Get the selected cpc_id\n",
    "        cpc_id = trace['name']\n",
    "        \n",
    "        # Get the x and y coordinates of the selected data points\n",
    "        x_data = trace['x'][points.point_inds[0]]\n",
    "        y_data = trace['y'][points.point_inds[0]]\n",
    "        \n",
    "        # Update the x and y axis ranges based on the selected data points\n",
    "        x_range = [x_data - (x_data - x_range[0]) * 0.1, x_data + (x_range[1] - x_data) * 0.1]\n",
    "        y_range = [y_data - (y_data - y_range[0]) * 0.1, y_data + (y_range[1] - y_data) * 0.1]\n",
    "    \n",
    "    # Update the axis ranges of the plot\n",
    "    fig.update_layout(xaxis=dict(range=x_range), yaxis=dict(range=y_range))\n",
    "\n",
    "# Add the callback function to each trace in the figure\n",
    "for trace in fig.data:\n",
    "    trace.on_click(update_legend)\n",
    "\n",
    "save_name = f\"patent_embedding_scatter_sample_{str(SAMPLE)}.html\"\n",
    "\n",
    "# Save the figure as html\n",
    "fig.write_html(save_name)\n",
    "\n",
    "# Show the figure\n",
    "fig.show()"
   ]
  }
 ],
 "metadata": {
  "kernelspec": {
   "display_name": ".venv",
   "language": "python",
   "name": "python3"
  },
  "language_info": {
   "codemirror_mode": {
    "name": "ipython",
    "version": 3
   },
   "file_extension": ".py",
   "mimetype": "text/x-python",
   "name": "python",
   "nbconvert_exporter": "python",
   "pygments_lexer": "ipython3",
   "version": "3.11.2"
  },
  "orig_nbformat": 4
 },
 "nbformat": 4,
 "nbformat_minor": 2
}
