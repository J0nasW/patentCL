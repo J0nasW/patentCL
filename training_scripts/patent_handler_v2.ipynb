{
 "cells": [
  {
   "cell_type": "code",
   "execution_count": 1,
   "metadata": {},
   "outputs": [],
   "source": [
    "# Import essential Python libraries\n",
    "import pandas as pd\n",
    "\n",
    "from tqdm.notebook import tqdm\n",
    "tqdm.pandas()\n",
    "\n",
    "import warnings\n",
    "warnings.filterwarnings('ignore')"
   ]
  },
  {
   "cell_type": "code",
   "execution_count": 2,
   "metadata": {},
   "outputs": [],
   "source": [
    "g_patent_tsv = \"../data/g_patent.tsv\"\n",
    "g_us_citation_tsv = \"../data/g_us_patent_citation.tsv\"\n",
    "cpc_group_tsv = \"../data/cpc_group.tsv\"\n",
    "g_cpc_current_tsv = \"../data/g_cpc_current.tsv\"\n",
    "\n",
    "g_patent_csv = \"../data/v2/g_patent.csv\"\n",
    "g_us_citation_csv = \"../data/v2/g_us_patent_citation.csv\"\n",
    "cpc_group_csv = \"../data/v2/cpc_group.csv\"\n",
    "g_cpc_current_csv = \"../data/v2/g_cpc_current.csv\""
   ]
  },
  {
   "cell_type": "code",
   "execution_count": 3,
   "metadata": {},
   "outputs": [
    {
     "name": "stdout",
     "output_type": "stream",
     "text": [
      "Loading the g_patent.tsv file...\n"
     ]
    },
    {
     "data": {
      "application/vnd.jupyter.widget-view+json": {
       "model_id": "f74ca8ec1e6b4728a45ce9fca0ddd306",
       "version_major": 2,
       "version_minor": 0
      },
      "text/plain": [
       "  0%|          | 0/9 [00:00<?, ?it/s]"
      ]
     },
     "metadata": {},
     "output_type": "display_data"
    },
    {
     "name": "stdout",
     "output_type": "stream",
     "text": [
      "Columns of the g_patents_df dataframe:\n"
     ]
    },
    {
     "data": {
      "text/plain": [
       "Index(['patent_id', 'patent_type', 'patent_date', 'patent_title',\n",
       "       'patent_abstract', 'wipo_kind', 'num_claims', 'withdrawn', 'filename'],\n",
       "      dtype='object')"
      ]
     },
     "metadata": {},
     "output_type": "display_data"
    },
    {
     "name": "stdout",
     "output_type": "stream",
     "text": [
      "Sample of the g_patents_df dataframe:\n"
     ]
    },
    {
     "data": {
      "text/html": [
       "<div>\n",
       "<style scoped>\n",
       "    .dataframe tbody tr th:only-of-type {\n",
       "        vertical-align: middle;\n",
       "    }\n",
       "\n",
       "    .dataframe tbody tr th {\n",
       "        vertical-align: top;\n",
       "    }\n",
       "\n",
       "    .dataframe thead th {\n",
       "        text-align: right;\n",
       "    }\n",
       "</style>\n",
       "<table border=\"1\" class=\"dataframe\">\n",
       "  <thead>\n",
       "    <tr style=\"text-align: right;\">\n",
       "      <th></th>\n",
       "      <th>patent_id</th>\n",
       "      <th>patent_type</th>\n",
       "      <th>patent_date</th>\n",
       "      <th>patent_title</th>\n",
       "      <th>patent_abstract</th>\n",
       "      <th>wipo_kind</th>\n",
       "      <th>num_claims</th>\n",
       "      <th>filename</th>\n",
       "    </tr>\n",
       "  </thead>\n",
       "  <tbody>\n",
       "    <tr>\n",
       "      <th>0</th>\n",
       "      <td>10000000</td>\n",
       "      <td>utility</td>\n",
       "      <td>2018-06-19</td>\n",
       "      <td>Coherent LADAR using intra-pixel quadrature de...</td>\n",
       "      <td>A frequency modulated (coherent) laser detecti...</td>\n",
       "      <td>B2</td>\n",
       "      <td>20</td>\n",
       "      <td>ipg180619.xml</td>\n",
       "    </tr>\n",
       "    <tr>\n",
       "      <th>1</th>\n",
       "      <td>10000001</td>\n",
       "      <td>utility</td>\n",
       "      <td>2018-06-19</td>\n",
       "      <td>Injection molding machine and mold thickness c...</td>\n",
       "      <td>The injection molding machine includes a fixed...</td>\n",
       "      <td>B2</td>\n",
       "      <td>12</td>\n",
       "      <td>ipg180619.xml</td>\n",
       "    </tr>\n",
       "    <tr>\n",
       "      <th>2</th>\n",
       "      <td>10000002</td>\n",
       "      <td>utility</td>\n",
       "      <td>2018-06-19</td>\n",
       "      <td>Method for manufacturing polymer film and co-e...</td>\n",
       "      <td>The present invention relates to: a method for...</td>\n",
       "      <td>B2</td>\n",
       "      <td>9</td>\n",
       "      <td>ipg180619.xml</td>\n",
       "    </tr>\n",
       "    <tr>\n",
       "      <th>3</th>\n",
       "      <td>10000003</td>\n",
       "      <td>utility</td>\n",
       "      <td>2018-06-19</td>\n",
       "      <td>Method for producing a container from a thermo...</td>\n",
       "      <td>The invention relates to a method for producin...</td>\n",
       "      <td>B2</td>\n",
       "      <td>18</td>\n",
       "      <td>ipg180619.xml</td>\n",
       "    </tr>\n",
       "    <tr>\n",
       "      <th>4</th>\n",
       "      <td>10000004</td>\n",
       "      <td>utility</td>\n",
       "      <td>2018-06-19</td>\n",
       "      <td>Process of obtaining a double-oriented film, c...</td>\n",
       "      <td>The present invention relates to provides a do...</td>\n",
       "      <td>B2</td>\n",
       "      <td>6</td>\n",
       "      <td>ipg180619.xml</td>\n",
       "    </tr>\n",
       "  </tbody>\n",
       "</table>\n",
       "</div>"
      ],
      "text/plain": [
       "  patent_id patent_type patent_date  \\\n",
       "0  10000000     utility  2018-06-19   \n",
       "1  10000001     utility  2018-06-19   \n",
       "2  10000002     utility  2018-06-19   \n",
       "3  10000003     utility  2018-06-19   \n",
       "4  10000004     utility  2018-06-19   \n",
       "\n",
       "                                        patent_title  \\\n",
       "0  Coherent LADAR using intra-pixel quadrature de...   \n",
       "1  Injection molding machine and mold thickness c...   \n",
       "2  Method for manufacturing polymer film and co-e...   \n",
       "3  Method for producing a container from a thermo...   \n",
       "4  Process of obtaining a double-oriented film, c...   \n",
       "\n",
       "                                     patent_abstract wipo_kind  num_claims  \\\n",
       "0  A frequency modulated (coherent) laser detecti...        B2          20   \n",
       "1  The injection molding machine includes a fixed...        B2          12   \n",
       "2  The present invention relates to: a method for...        B2           9   \n",
       "3  The invention relates to a method for producin...        B2          18   \n",
       "4  The present invention relates to provides a do...        B2           6   \n",
       "\n",
       "        filename  \n",
       "0  ipg180619.xml  \n",
       "1  ipg180619.xml  \n",
       "2  ipg180619.xml  \n",
       "3  ipg180619.xml  \n",
       "4  ipg180619.xml  "
      ]
     },
     "metadata": {},
     "output_type": "display_data"
    },
    {
     "name": "stdout",
     "output_type": "stream",
     "text": [
      "Saving the g_patent.csv file...\n",
      "Done!\n"
     ]
    }
   ],
   "source": [
    "# Load the g patents tsv in to a pandas dataframe with chunks. Use tqdm to track progress in the jupyter notebook\n",
    "\n",
    "g_patents_df = pd.DataFrame()\n",
    "print('Loading the g_patent.tsv file...')\n",
    "for chunk in tqdm(pd.read_csv(g_patent_tsv, sep='\\t', chunksize=1000000, low_memory=False), total=9):\n",
    "    g_patents_df = pd.concat([g_patents_df, chunk])\n",
    "\n",
    "print(\"Columns of the g_patents_df dataframe:\")\n",
    "display(g_patents_df.columns)\n",
    "\n",
    "# drop the columns that are not needed\n",
    "g_patents_df.drop(columns=['withdrawn'], inplace=True)\n",
    "\n",
    "print(\"Sample of the g_patents_df dataframe:\")\n",
    "display(g_patents_df.head(5))\n",
    "\n",
    "# Save the dataframe to a csv file\n",
    "print('Saving the g_patent.csv file...')\n",
    "g_patents_df.to_csv(g_patent_csv, index=False)\n",
    "print('Done!')"
   ]
  },
  {
   "cell_type": "code",
   "execution_count": 4,
   "metadata": {},
   "outputs": [
    {
     "name": "stdout",
     "output_type": "stream",
     "text": [
      "Loading the g_us_patent_citation.tsv file...\n"
     ]
    },
    {
     "data": {
      "application/vnd.jupyter.widget-view+json": {
       "model_id": "294646588a1f4575b57551e0bfc8a61e",
       "version_major": 2,
       "version_minor": 0
      },
      "text/plain": [
       "  0%|          | 0/129 [00:00<?, ?it/s]"
      ]
     },
     "metadata": {},
     "output_type": "display_data"
    },
    {
     "name": "stdout",
     "output_type": "stream",
     "text": [
      "Columns of the g_citation_df dataframe:\n"
     ]
    },
    {
     "data": {
      "text/plain": [
       "Index(['patent_id', 'citation_sequence', 'citation_patent_id', 'citation_date',\n",
       "       'record_name', 'wipo_kind', 'citation_category'],\n",
       "      dtype='object')"
      ]
     },
     "metadata": {},
     "output_type": "display_data"
    },
    {
     "name": "stdout",
     "output_type": "stream",
     "text": [
      "Sample of the g_citation_df dataframe:\n"
     ]
    },
    {
     "data": {
      "text/html": [
       "<div>\n",
       "<style scoped>\n",
       "    .dataframe tbody tr th:only-of-type {\n",
       "        vertical-align: middle;\n",
       "    }\n",
       "\n",
       "    .dataframe tbody tr th {\n",
       "        vertical-align: top;\n",
       "    }\n",
       "\n",
       "    .dataframe thead th {\n",
       "        text-align: right;\n",
       "    }\n",
       "</style>\n",
       "<table border=\"1\" class=\"dataframe\">\n",
       "  <thead>\n",
       "    <tr style=\"text-align: right;\">\n",
       "      <th></th>\n",
       "      <th>patent_id</th>\n",
       "      <th>patent_type</th>\n",
       "      <th>patent_date</th>\n",
       "      <th>patent_title</th>\n",
       "      <th>patent_abstract</th>\n",
       "      <th>wipo_kind</th>\n",
       "      <th>num_claims</th>\n",
       "      <th>filename</th>\n",
       "    </tr>\n",
       "  </thead>\n",
       "  <tbody>\n",
       "    <tr>\n",
       "      <th>0</th>\n",
       "      <td>10000000</td>\n",
       "      <td>utility</td>\n",
       "      <td>2018-06-19</td>\n",
       "      <td>Coherent LADAR using intra-pixel quadrature de...</td>\n",
       "      <td>A frequency modulated (coherent) laser detecti...</td>\n",
       "      <td>B2</td>\n",
       "      <td>20</td>\n",
       "      <td>ipg180619.xml</td>\n",
       "    </tr>\n",
       "    <tr>\n",
       "      <th>1</th>\n",
       "      <td>10000001</td>\n",
       "      <td>utility</td>\n",
       "      <td>2018-06-19</td>\n",
       "      <td>Injection molding machine and mold thickness c...</td>\n",
       "      <td>The injection molding machine includes a fixed...</td>\n",
       "      <td>B2</td>\n",
       "      <td>12</td>\n",
       "      <td>ipg180619.xml</td>\n",
       "    </tr>\n",
       "    <tr>\n",
       "      <th>2</th>\n",
       "      <td>10000002</td>\n",
       "      <td>utility</td>\n",
       "      <td>2018-06-19</td>\n",
       "      <td>Method for manufacturing polymer film and co-e...</td>\n",
       "      <td>The present invention relates to: a method for...</td>\n",
       "      <td>B2</td>\n",
       "      <td>9</td>\n",
       "      <td>ipg180619.xml</td>\n",
       "    </tr>\n",
       "    <tr>\n",
       "      <th>3</th>\n",
       "      <td>10000003</td>\n",
       "      <td>utility</td>\n",
       "      <td>2018-06-19</td>\n",
       "      <td>Method for producing a container from a thermo...</td>\n",
       "      <td>The invention relates to a method for producin...</td>\n",
       "      <td>B2</td>\n",
       "      <td>18</td>\n",
       "      <td>ipg180619.xml</td>\n",
       "    </tr>\n",
       "    <tr>\n",
       "      <th>4</th>\n",
       "      <td>10000004</td>\n",
       "      <td>utility</td>\n",
       "      <td>2018-06-19</td>\n",
       "      <td>Process of obtaining a double-oriented film, c...</td>\n",
       "      <td>The present invention relates to provides a do...</td>\n",
       "      <td>B2</td>\n",
       "      <td>6</td>\n",
       "      <td>ipg180619.xml</td>\n",
       "    </tr>\n",
       "  </tbody>\n",
       "</table>\n",
       "</div>"
      ],
      "text/plain": [
       "  patent_id patent_type patent_date  \\\n",
       "0  10000000     utility  2018-06-19   \n",
       "1  10000001     utility  2018-06-19   \n",
       "2  10000002     utility  2018-06-19   \n",
       "3  10000003     utility  2018-06-19   \n",
       "4  10000004     utility  2018-06-19   \n",
       "\n",
       "                                        patent_title  \\\n",
       "0  Coherent LADAR using intra-pixel quadrature de...   \n",
       "1  Injection molding machine and mold thickness c...   \n",
       "2  Method for manufacturing polymer film and co-e...   \n",
       "3  Method for producing a container from a thermo...   \n",
       "4  Process of obtaining a double-oriented film, c...   \n",
       "\n",
       "                                     patent_abstract wipo_kind  num_claims  \\\n",
       "0  A frequency modulated (coherent) laser detecti...        B2          20   \n",
       "1  The injection molding machine includes a fixed...        B2          12   \n",
       "2  The present invention relates to: a method for...        B2           9   \n",
       "3  The invention relates to a method for producin...        B2          18   \n",
       "4  The present invention relates to provides a do...        B2           6   \n",
       "\n",
       "        filename  \n",
       "0  ipg180619.xml  \n",
       "1  ipg180619.xml  \n",
       "2  ipg180619.xml  \n",
       "3  ipg180619.xml  \n",
       "4  ipg180619.xml  "
      ]
     },
     "metadata": {},
     "output_type": "display_data"
    },
    {
     "name": "stdout",
     "output_type": "stream",
     "text": [
      "Creating a new column in the g_patents_df dataframe that contains a list of each cited patent for each patent...\n"
     ]
    },
    {
     "ename": "KeyboardInterrupt",
     "evalue": "",
     "output_type": "error",
     "traceback": [
      "\u001b[0;31m---------------------------------------------------------------------------\u001b[0m",
      "\u001b[0;31mKeyboardInterrupt\u001b[0m                         Traceback (most recent call last)",
      "Cell \u001b[0;32mIn[4], line 23\u001b[0m\n\u001b[1;32m     20\u001b[0m \u001b[39m# Use the information from the g_citation_df dataframe create a new column in the g_patents_df dataframe that contains a list of each cited patent for each patent\u001b[39;00m\n\u001b[1;32m     21\u001b[0m \u001b[39m# Create a new column in the g_patents_df dataframe that contains a list of each cited patent for each patent\u001b[39;00m\n\u001b[1;32m     22\u001b[0m \u001b[39mprint\u001b[39m(\u001b[39m'\u001b[39m\u001b[39mCreating a new column in the g_patents_df dataframe that contains a list of each cited patent for each patent...\u001b[39m\u001b[39m'\u001b[39m)\n\u001b[0;32m---> 23\u001b[0m g_patents_df[\u001b[39m\"\u001b[39m\u001b[39mcited_patents\u001b[39m\u001b[39m\"\u001b[39m] \u001b[39m=\u001b[39m g_patents_df[\u001b[39m\"\u001b[39;49m\u001b[39mpatent_id\u001b[39;49m\u001b[39m\"\u001b[39;49m]\u001b[39m.\u001b[39;49mapply(\u001b[39mlambda\u001b[39;49;00m x: \u001b[39mlist\u001b[39;49m(g_citation_df[g_citation_df[\u001b[39m\"\u001b[39;49m\u001b[39mpatent_id\u001b[39;49m\u001b[39m\"\u001b[39;49m] \u001b[39m==\u001b[39;49m x][\u001b[39m\"\u001b[39;49m\u001b[39mcitation_patent_id\u001b[39;49m\u001b[39m\"\u001b[39;49m]))\n\u001b[1;32m     24\u001b[0m \u001b[39mprint\u001b[39m(\u001b[39m'\u001b[39m\u001b[39mDone!\u001b[39m\u001b[39m'\u001b[39m)\n\u001b[1;32m     26\u001b[0m \u001b[39m# Save the g_patent_citations.csv dataframe to a csv file\u001b[39;00m\n",
      "File \u001b[0;32m~/.pyenv/versions/3.9.16/lib/python3.9/site-packages/pandas/core/series.py:4771\u001b[0m, in \u001b[0;36mSeries.apply\u001b[0;34m(self, func, convert_dtype, args, **kwargs)\u001b[0m\n\u001b[1;32m   4661\u001b[0m \u001b[39mdef\u001b[39;00m \u001b[39mapply\u001b[39m(\n\u001b[1;32m   4662\u001b[0m     \u001b[39mself\u001b[39m,\n\u001b[1;32m   4663\u001b[0m     func: AggFuncType,\n\u001b[0;32m   (...)\u001b[0m\n\u001b[1;32m   4666\u001b[0m     \u001b[39m*\u001b[39m\u001b[39m*\u001b[39mkwargs,\n\u001b[1;32m   4667\u001b[0m ) \u001b[39m-\u001b[39m\u001b[39m>\u001b[39m DataFrame \u001b[39m|\u001b[39m Series:\n\u001b[1;32m   4668\u001b[0m \u001b[39m    \u001b[39m\u001b[39m\"\"\"\u001b[39;00m\n\u001b[1;32m   4669\u001b[0m \u001b[39m    Invoke function on values of Series.\u001b[39;00m\n\u001b[1;32m   4670\u001b[0m \n\u001b[0;32m   (...)\u001b[0m\n\u001b[1;32m   4769\u001b[0m \u001b[39m    dtype: float64\u001b[39;00m\n\u001b[1;32m   4770\u001b[0m \u001b[39m    \"\"\"\u001b[39;00m\n\u001b[0;32m-> 4771\u001b[0m     \u001b[39mreturn\u001b[39;00m SeriesApply(\u001b[39mself\u001b[39;49m, func, convert_dtype, args, kwargs)\u001b[39m.\u001b[39;49mapply()\n",
      "File \u001b[0;32m~/.pyenv/versions/3.9.16/lib/python3.9/site-packages/pandas/core/apply.py:1123\u001b[0m, in \u001b[0;36mSeriesApply.apply\u001b[0;34m(self)\u001b[0m\n\u001b[1;32m   1120\u001b[0m     \u001b[39mreturn\u001b[39;00m \u001b[39mself\u001b[39m\u001b[39m.\u001b[39mapply_str()\n\u001b[1;32m   1122\u001b[0m \u001b[39m# self.f is Callable\u001b[39;00m\n\u001b[0;32m-> 1123\u001b[0m \u001b[39mreturn\u001b[39;00m \u001b[39mself\u001b[39;49m\u001b[39m.\u001b[39;49mapply_standard()\n",
      "File \u001b[0;32m~/.pyenv/versions/3.9.16/lib/python3.9/site-packages/pandas/core/apply.py:1174\u001b[0m, in \u001b[0;36mSeriesApply.apply_standard\u001b[0;34m(self)\u001b[0m\n\u001b[1;32m   1172\u001b[0m     \u001b[39melse\u001b[39;00m:\n\u001b[1;32m   1173\u001b[0m         values \u001b[39m=\u001b[39m obj\u001b[39m.\u001b[39mastype(\u001b[39mobject\u001b[39m)\u001b[39m.\u001b[39m_values\n\u001b[0;32m-> 1174\u001b[0m         mapped \u001b[39m=\u001b[39m lib\u001b[39m.\u001b[39;49mmap_infer(\n\u001b[1;32m   1175\u001b[0m             values,\n\u001b[1;32m   1176\u001b[0m             f,\n\u001b[1;32m   1177\u001b[0m             convert\u001b[39m=\u001b[39;49m\u001b[39mself\u001b[39;49m\u001b[39m.\u001b[39;49mconvert_dtype,\n\u001b[1;32m   1178\u001b[0m         )\n\u001b[1;32m   1180\u001b[0m \u001b[39mif\u001b[39;00m \u001b[39mlen\u001b[39m(mapped) \u001b[39mand\u001b[39;00m \u001b[39misinstance\u001b[39m(mapped[\u001b[39m0\u001b[39m], ABCSeries):\n\u001b[1;32m   1181\u001b[0m     \u001b[39m# GH#43986 Need to do list(mapped) in order to get treated as nested\u001b[39;00m\n\u001b[1;32m   1182\u001b[0m     \u001b[39m#  See also GH#25959 regarding EA support\u001b[39;00m\n\u001b[1;32m   1183\u001b[0m     \u001b[39mreturn\u001b[39;00m obj\u001b[39m.\u001b[39m_constructor_expanddim(\u001b[39mlist\u001b[39m(mapped), index\u001b[39m=\u001b[39mobj\u001b[39m.\u001b[39mindex)\n",
      "File \u001b[0;32m~/.pyenv/versions/3.9.16/lib/python3.9/site-packages/pandas/_libs/lib.pyx:2924\u001b[0m, in \u001b[0;36mpandas._libs.lib.map_infer\u001b[0;34m()\u001b[0m\n",
      "Cell \u001b[0;32mIn[4], line 23\u001b[0m, in \u001b[0;36m<lambda>\u001b[0;34m(x)\u001b[0m\n\u001b[1;32m     20\u001b[0m \u001b[39m# Use the information from the g_citation_df dataframe create a new column in the g_patents_df dataframe that contains a list of each cited patent for each patent\u001b[39;00m\n\u001b[1;32m     21\u001b[0m \u001b[39m# Create a new column in the g_patents_df dataframe that contains a list of each cited patent for each patent\u001b[39;00m\n\u001b[1;32m     22\u001b[0m \u001b[39mprint\u001b[39m(\u001b[39m'\u001b[39m\u001b[39mCreating a new column in the g_patents_df dataframe that contains a list of each cited patent for each patent...\u001b[39m\u001b[39m'\u001b[39m)\n\u001b[0;32m---> 23\u001b[0m g_patents_df[\u001b[39m\"\u001b[39m\u001b[39mcited_patents\u001b[39m\u001b[39m\"\u001b[39m] \u001b[39m=\u001b[39m g_patents_df[\u001b[39m\"\u001b[39m\u001b[39mpatent_id\u001b[39m\u001b[39m\"\u001b[39m]\u001b[39m.\u001b[39mapply(\u001b[39mlambda\u001b[39;00m x: \u001b[39mlist\u001b[39m(g_citation_df[g_citation_df[\u001b[39m\"\u001b[39;49m\u001b[39mpatent_id\u001b[39;49m\u001b[39m\"\u001b[39;49m] \u001b[39m==\u001b[39;49m x][\u001b[39m\"\u001b[39m\u001b[39mcitation_patent_id\u001b[39m\u001b[39m\"\u001b[39m]))\n\u001b[1;32m     24\u001b[0m \u001b[39mprint\u001b[39m(\u001b[39m'\u001b[39m\u001b[39mDone!\u001b[39m\u001b[39m'\u001b[39m)\n\u001b[1;32m     26\u001b[0m \u001b[39m# Save the g_patent_citations.csv dataframe to a csv file\u001b[39;00m\n",
      "File \u001b[0;32m~/.pyenv/versions/3.9.16/lib/python3.9/site-packages/pandas/core/ops/common.py:72\u001b[0m, in \u001b[0;36m_unpack_zerodim_and_defer.<locals>.new_method\u001b[0;34m(self, other)\u001b[0m\n\u001b[1;32m     68\u001b[0m             \u001b[39mreturn\u001b[39;00m \u001b[39mNotImplemented\u001b[39m\n\u001b[1;32m     70\u001b[0m other \u001b[39m=\u001b[39m item_from_zerodim(other)\n\u001b[0;32m---> 72\u001b[0m \u001b[39mreturn\u001b[39;00m method(\u001b[39mself\u001b[39;49m, other)\n",
      "File \u001b[0;32m~/.pyenv/versions/3.9.16/lib/python3.9/site-packages/pandas/core/arraylike.py:42\u001b[0m, in \u001b[0;36mOpsMixin.__eq__\u001b[0;34m(self, other)\u001b[0m\n\u001b[1;32m     40\u001b[0m \u001b[39m@unpack_zerodim_and_defer\u001b[39m(\u001b[39m\"\u001b[39m\u001b[39m__eq__\u001b[39m\u001b[39m\"\u001b[39m)\n\u001b[1;32m     41\u001b[0m \u001b[39mdef\u001b[39;00m \u001b[39m__eq__\u001b[39m(\u001b[39mself\u001b[39m, other):\n\u001b[0;32m---> 42\u001b[0m     \u001b[39mreturn\u001b[39;00m \u001b[39mself\u001b[39;49m\u001b[39m.\u001b[39;49m_cmp_method(other, operator\u001b[39m.\u001b[39;49meq)\n",
      "File \u001b[0;32m~/.pyenv/versions/3.9.16/lib/python3.9/site-packages/pandas/core/series.py:6243\u001b[0m, in \u001b[0;36mSeries._cmp_method\u001b[0;34m(self, other, op)\u001b[0m\n\u001b[1;32m   6240\u001b[0m rvalues \u001b[39m=\u001b[39m extract_array(other, extract_numpy\u001b[39m=\u001b[39m\u001b[39mTrue\u001b[39;00m, extract_range\u001b[39m=\u001b[39m\u001b[39mTrue\u001b[39;00m)\n\u001b[1;32m   6242\u001b[0m \u001b[39mwith\u001b[39;00m np\u001b[39m.\u001b[39merrstate(\u001b[39mall\u001b[39m\u001b[39m=\u001b[39m\u001b[39m\"\u001b[39m\u001b[39mignore\u001b[39m\u001b[39m\"\u001b[39m):\n\u001b[0;32m-> 6243\u001b[0m     res_values \u001b[39m=\u001b[39m ops\u001b[39m.\u001b[39;49mcomparison_op(lvalues, rvalues, op)\n\u001b[1;32m   6245\u001b[0m \u001b[39mreturn\u001b[39;00m \u001b[39mself\u001b[39m\u001b[39m.\u001b[39m_construct_result(res_values, name\u001b[39m=\u001b[39mres_name)\n",
      "File \u001b[0;32m~/.pyenv/versions/3.9.16/lib/python3.9/site-packages/pandas/core/ops/array_ops.py:287\u001b[0m, in \u001b[0;36mcomparison_op\u001b[0;34m(left, right, op)\u001b[0m\n\u001b[1;32m    284\u001b[0m     \u001b[39mreturn\u001b[39;00m invalid_comparison(lvalues, rvalues, op)\n\u001b[1;32m    286\u001b[0m \u001b[39melif\u001b[39;00m is_object_dtype(lvalues\u001b[39m.\u001b[39mdtype) \u001b[39mor\u001b[39;00m \u001b[39misinstance\u001b[39m(rvalues, \u001b[39mstr\u001b[39m):\n\u001b[0;32m--> 287\u001b[0m     res_values \u001b[39m=\u001b[39m comp_method_OBJECT_ARRAY(op, lvalues, rvalues)\n\u001b[1;32m    289\u001b[0m \u001b[39melse\u001b[39;00m:\n\u001b[1;32m    290\u001b[0m     res_values \u001b[39m=\u001b[39m _na_arithmetic_op(lvalues, rvalues, op, is_cmp\u001b[39m=\u001b[39m\u001b[39mTrue\u001b[39;00m)\n",
      "File \u001b[0;32m~/.pyenv/versions/3.9.16/lib/python3.9/site-packages/pandas/core/ops/array_ops.py:75\u001b[0m, in \u001b[0;36mcomp_method_OBJECT_ARRAY\u001b[0;34m(op, x, y)\u001b[0m\n\u001b[1;32m     73\u001b[0m     result \u001b[39m=\u001b[39m libops\u001b[39m.\u001b[39mvec_compare(x\u001b[39m.\u001b[39mravel(), y\u001b[39m.\u001b[39mravel(), op)\n\u001b[1;32m     74\u001b[0m \u001b[39melse\u001b[39;00m:\n\u001b[0;32m---> 75\u001b[0m     result \u001b[39m=\u001b[39m libops\u001b[39m.\u001b[39;49mscalar_compare(x\u001b[39m.\u001b[39;49mravel(), y, op)\n\u001b[1;32m     76\u001b[0m \u001b[39mreturn\u001b[39;00m result\u001b[39m.\u001b[39mreshape(x\u001b[39m.\u001b[39mshape)\n",
      "\u001b[0;31mKeyboardInterrupt\u001b[0m: "
     ]
    }
   ],
   "source": [
    "# Load the g citations tsv in to a pandas dataframe with chunks. Use tqdm to track progress in the jupyter notebook\n",
    "\n",
    "g_citation_df = pd.DataFrame()\n",
    "print('Loading the g_us_patent_citation.tsv file...')\n",
    "for chunk in tqdm(pd.read_csv(g_us_citation_tsv, sep='\\t', chunksize=1000000, low_memory=False), total=129):\n",
    "    g_citation_df = pd.concat([g_citation_df, chunk])\n",
    "\n",
    "print(\"Columns of the g_citation_df dataframe:\")\n",
    "display(g_citation_df.columns)\n",
    "\n",
    "# rename the columns to match the neo4j import database schema\n",
    "# g_citation_df.rename(columns={'patent_id': ':START_ID', \"citation_patent_id\": \":END_ID\", \"citation_sequence\":\"citation_sequence:str\", \"citation_date\": \"date:neo4j.time.Date\", \"record_name\": \"record_name:str\"}, inplace=True)\n",
    "\n",
    "# drop the columns that are not needed\n",
    "g_citation_df.drop(columns=[\"wipo_kind\", \"citation_category\"], inplace=True)\n",
    "\n",
    "print(\"Sample of the g_citation_df dataframe:\")\n",
    "display(g_patents_df.head(5))\n",
    "\n",
    "# Use the information from the g_citation_df dataframe create a new column in the g_patents_df dataframe that contains a list of each cited patent for each patent\n",
    "# Create a new column in the g_patents_df dataframe that contains a list of each cited patent for each patent\n",
    "print('Creating a new column in the g_patents_df dataframe that contains a list of each cited patent for each patent...')\n",
    "g_patents_df[\"cited_patents\"] = g_patents_df[\"patent_id\"].apply(lambda x: list(g_citation_df[g_citation_df[\"patent_id\"] == x][\"citation_patent_id\"]))\n",
    "print('Done!')\n",
    "\n",
    "# Save the g_patent_citations.csv dataframe to a csv file\n",
    "print('Saving the g_patent_citations.csv dataframe to a csv file...')\n",
    "g_patents_df.to_csv(g_patent_csv, index=False)\n",
    "print('Done!')"
   ]
  },
  {
   "cell_type": "code",
   "execution_count": null,
   "metadata": {},
   "outputs": [
    {
     "name": "stdout",
     "output_type": "stream",
     "text": [
      "Saving the cpc_group.csv file...\n",
      "Done!\n"
     ]
    }
   ],
   "source": [
    "cpc_groups = pd.read_csv(cpc_group_tsv, sep='\\t', low_memory=False)\n",
    "\n",
    "# Save the dataframe to a csv file\n",
    "print('Saving the cpc_group.csv file...')\n",
    "cpc_groups.to_csv(cpc_group_csv, index=False)\n",
    "print(\"Done!\")"
   ]
  },
  {
   "cell_type": "code",
   "execution_count": null,
   "metadata": {},
   "outputs": [
    {
     "name": "stdout",
     "output_type": "stream",
     "text": [
      "Loading the g_cpc_current.tsv file...\n"
     ]
    },
    {
     "data": {
      "application/vnd.jupyter.widget-view+json": {
       "model_id": "4b57d6bec26e4ad4827b34f9e8fa9fbb",
       "version_major": 2,
       "version_minor": 0
      },
      "text/plain": [
       "  0%|          | 0/49 [00:00<?, ?it/s]"
      ]
     },
     "metadata": {},
     "output_type": "display_data"
    },
    {
     "name": "stdout",
     "output_type": "stream",
     "text": [
      "Creating a new column in the g_patents_df dataframe that contains a list of each cpc_subclass for each patent...\n",
      "Saving the g_patent_citations_cpc.csv dataframe to a csv file...\n",
      "Done!\n"
     ]
    }
   ],
   "source": [
    "g_cpc = pd.DataFrame()\n",
    "print('Loading the g_cpc_current.tsv file...')\n",
    "for chunk in tqdm(pd.read_csv(g_cpc_current_tsv, sep='\\t', chunksize=1000000, low_memory=False), total=49):\n",
    "    g_cpc = pd.concat([g_cpc, chunk])\n",
    "\n",
    "# Use the information from the g_cpc dataframe create a new column in the g_patents_df dataframe that contains a list of each cpc_subclass for each patent\n",
    "# Create a new column in the g_patents_df dataframe that contains a list of each cpc_subclass for each patent\n",
    "print('Creating a new column in the g_patents_df dataframe that contains a list of each cpc_subclass for each patent...')\n",
    "g_patents_df['cpc_subclasses'] = g_patents_df['patent_id'].map(g_cpc.groupby('patent_id')['cpc_subclass_symbol'].apply(list))\n",
    "print('Done!')\n",
    "\n",
    "# Save the g_patent_citations.csv dataframe to a csv file\n",
    "print('Saving the g_patent_citations_cpc.csv dataframe to a csv file...')\n",
    "g_patents_df.to_csv(g_patent_csv, index=False)\n",
    "print('Done!')"
   ]
  }
 ],
 "metadata": {
  "kernelspec": {
   "display_name": "Python 3",
   "language": "python",
   "name": "python3"
  },
  "language_info": {
   "codemirror_mode": {
    "name": "ipython",
    "version": 3
   },
   "file_extension": ".py",
   "mimetype": "text/x-python",
   "name": "python",
   "nbconvert_exporter": "python",
   "pygments_lexer": "ipython3",
   "version": "3.9.16"
  },
  "orig_nbformat": 4
 },
 "nbformat": 4,
 "nbformat_minor": 2
}
